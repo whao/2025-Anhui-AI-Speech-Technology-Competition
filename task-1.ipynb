{
 "cells": [
  {
   "cell_type": "markdown",
   "id": "c24da773",
   "metadata": {},
   "source": [
    "# 任务一：音频预处理\n",
    "本题主要考察考生对音频数据预处理流程的理解和实现能力。需要完成以下任务：\n",
    "- 读取音频文件，转换为16kHz采样率的单声道音频。\n",
    "- 对音频进行归一化处理，确保音频的振幅在[-1, 1]范围内。\n",
    "- 对音频进行 FFT 变换，提取频域特征并输出频谱图。\n",
    "- 对音频进行短时傅里叶变换（STFT），提取时域特征并输出时频图。\n",
    "- 输出音频梅尔频谱图。"
   ]
  },
  {
   "cell_type": "code",
   "execution_count": null,
   "id": "8b2ab61c",
   "metadata": {},
   "outputs": [
    {
     "name": "stdout",
     "output_type": "stream",
     "text": [
      "Hello, World!\n"
     ]
    }
   ],
   "source": [
    "# TODO: 添加必要的库\n"
   ]
  },
  {
   "cell_type": "code",
   "execution_count": null,
   "id": "ee69346d",
   "metadata": {},
   "outputs": [],
   "source": [
    "# TODO: 读取音频文件，转换为16kHz采样率的单声道音频\n",
    "# 例如：`y, sr = librosa.load('./data/sample_recording.wav', sr=16000, mono=True)`"
   ]
  },
  {
   "cell_type": "code",
   "execution_count": null,
   "id": "2813b1f4",
   "metadata": {},
   "outputs": [],
   "source": [
    "# TODO:输出 FFT 频域频谱图"
   ]
  },
  {
   "cell_type": "code",
   "execution_count": null,
   "id": "83380469",
   "metadata": {},
   "outputs": [],
   "source": [
    "# TODO: 输出短时傅里叶变换（STFT）时频图"
   ]
  },
  {
   "cell_type": "code",
   "execution_count": null,
   "id": "b0530d61",
   "metadata": {},
   "outputs": [],
   "source": [
    "# TODO: 输出 Mel 频谱图"
   ]
  }
 ],
 "metadata": {
  "kernelspec": {
   "display_name": "2025-Anhui-AI-Speech-Technology-Competition",
   "language": "python",
   "name": "python3"
  },
  "language_info": {
   "codemirror_mode": {
    "name": "ipython",
    "version": 3
   },
   "file_extension": ".py",
   "mimetype": "text/x-python",
   "name": "python",
   "nbconvert_exporter": "python",
   "pygments_lexer": "ipython3",
   "version": "3.12.3"
  }
 },
 "nbformat": 4,
 "nbformat_minor": 5
}
